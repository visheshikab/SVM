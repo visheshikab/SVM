{
 "cells": [
  {
   "cell_type": "code",
   "execution_count": 58,
   "id": "f3f2a40e-a012-4c61-aa7d-02e4cd659dbb",
   "metadata": {},
   "outputs": [],
   "source": [
    "#Idea: Prediction of groundwater levels: I came across a research paper titled \"Groundwater Prediction Using Machine-Learning Tools\" (https://www.mdpi.com/1999-4893/13/11/300) and thought of comparing results from regression analysis, SVM and random forests to predict the groundwater levels in India. I use values of precipitation (pr), altitude (alt), average annual temperature (at) and distance from sea (dsea) to predict the groundwater levels.  \n",
    "\n",
    "#Progress: Managed to run basic GLM and SVM models - I need to undersand the math better to improve them."
   ]
  },
  {
   "cell_type": "code",
   "execution_count": 59,
   "id": "a0774f39-3628-4ec5-9e06-eba50401ff2f",
   "metadata": {},
   "outputs": [],
   "source": [
    "import pandas as pd\n",
    "import statsmodels.api as sm\n",
    "import statsmodels.formula.api as smf\n",
    "from sklearn import datasets\n",
    "from sklearn.model_selection import train_test_split\n",
    "from sklearn.svm import SVC\n",
    "from sklearn.metrics import accuracy_score\n",
    "import warnings\n",
    "warnings.simplefilter(action='ignore', category=pd.errors.PerformanceWarning)\n",
    "\n",
    "def clear_dataframe():\n",
    "    return pd.DataFrame()"
   ]
  },
  {
   "cell_type": "code",
   "execution_count": 60,
   "id": "70341e37-479c-45bd-bc47-f389c79451a3",
   "metadata": {},
   "outputs": [],
   "source": [
    "#Converting the dta files from American Economic Association Journal's Appendix (paper titled \"Wells, Water, and Welfare: The Impact of Access to Groundwater on Rural Poverty and Conflict\")\n",
    "\n",
    "iac = pd.io.stata.read_stata(r'C:\\Users\\vishe\\Desktop\\Groundwater\\AEJ_IAC.dta')\n",
    "iac.to_csv(r'C:\\Users\\vishe\\Desktop\\Groundwater\\AEJ_IAC.csv')"
   ]
  },
  {
   "cell_type": "code",
   "execution_count": 61,
   "id": "d392ed75-4792-4ef7-a08a-fd21d744f8f2",
   "metadata": {},
   "outputs": [],
   "source": [
    "import pandas as pd\n",
    "\n",
    "def aquifer_depth_str(dmaq2, dmaq3):\n",
    "    if dmaq3 == 1:\n",
    "        return 'high'\n",
    "    elif dmaq2 == 1:\n",
    "        return 'medium'\n",
    "    else:\n",
    "        return 'low'\n",
    "\n",
    "# Create a new column 'aquifer_depth_str'\n",
    "iac['aquifer_depth_str'] = iac.apply(lambda row: aquifer_depth_str(row['dmaq2'], row['dmaq3']), axis=1)\n",
    "\n",
    "def aquifer_depth(dmaq2, dmaq3):\n",
    "    if dmaq3 == 1:\n",
    "        return 3\n",
    "    elif dmaq2 == 1:\n",
    "        return 2\n",
    "    else:\n",
    "        return 1\n",
    "\n",
    "# Create a new column 'aquifer_depth'\n",
    "iac['aquifer_depth'] = iac.apply(lambda row: aquifer_depth(row['dmaq2'], row['dmaq3']), axis=1)\n",
    "\n",
    "columns_to_concat = ['alt', 'dsea', 'at', 'pr', 'aquifer_depth_str', 'aquifer_depth']\n",
    "iac = pd.concat([iac[columns_to_concat]], axis=1)\n"
   ]
  },
  {
   "cell_type": "code",
   "execution_count": 62,
   "id": "0df249b5-9bed-4922-89d3-9c78fdc0c7a0",
   "metadata": {},
   "outputs": [
    {
     "data": {
      "text/plain": [
       "<bound method NDFrame.head of       alt       dsea         at          pr aquifer_depth_str  aquifer_depth\n",
       "0     168  29.100000  27.790001  102.660004              high              3\n",
       "1     168  29.100000  28.059999   76.370003              high              3\n",
       "2     168  29.100000  28.420000   91.559998              high              3\n",
       "3     168  29.100000  28.090000   87.480003              high              3\n",
       "4     168  29.100000  28.129999   69.320000              high              3\n",
       "...   ...        ...        ...         ...               ...            ...\n",
       "3963  200  96.800003  25.950001  114.419998               low              1\n",
       "3964  200  96.800003  25.940001  145.750000               low              1\n",
       "3965  200  96.800003  26.389999   95.639999               low              1\n",
       "3966  200  96.800003  26.219999  121.589996               low              1\n",
       "3967  200  96.800003  26.750000  116.029999               low              1\n",
       "\n",
       "[3968 rows x 6 columns]>"
      ]
     },
     "execution_count": 62,
     "metadata": {},
     "output_type": "execute_result"
    }
   ],
   "source": [
    "iac.head"
   ]
  },
  {
   "cell_type": "code",
   "execution_count": 63,
   "id": "b21ffaf1-0099-46e1-9b17-1872fde28a8a",
   "metadata": {},
   "outputs": [
    {
     "name": "stdout",
     "output_type": "stream",
     "text": [
      "X_train shape: (2777, 4)\n",
      "y_train shape: (2777,)\n",
      "X_test shape: (1191, 4)\n",
      "y_test shape: (1191,)\n",
      "accuarcy score is :  0.6120906801007556\n"
     ]
    }
   ],
   "source": [
    "#Method 2: SVM\n",
    "\n",
    "from sklearn.model_selection import train_test_split\n",
    "from sklearn.svm import SVC\n",
    "from sklearn.metrics import accuracy_score\n",
    "\n",
    "# Assuming 'iac' is your DataFrame\n",
    "X = iac[['alt','dsea', 'at', 'pr']]  # Include your features\n",
    "y = iac['aquifer_depth_str']\n",
    "\n",
    "# Split the dataset into training and testing sets\n",
    "X_train, X_test, y_train, y_test = train_test_split(X, y, test_size=0.3, random_state=4)\n",
    "\n",
    "# Print shapes of training and testing sets for debugging\n",
    "print(\"X_train shape:\", X_train.shape)\n",
    "print(\"y_train shape:\", y_train.shape)\n",
    "print(\"X_test shape:\", X_test.shape)\n",
    "print(\"y_test shape:\", y_test.shape)\n",
    "\n",
    "# Create an SVM classifier\n",
    "svm_classifier = SVC(kernel='linear', C=1)\n",
    "\n",
    "# Train the classifier on the training set\n",
    "svm_classifier.fit(X_train, y_train)\n",
    "\n",
    "# Make predictions on the test set\n",
    "y_pred = svm_classifier.predict(X_test)\n",
    "\n",
    "# Calculate accuracy\n",
    "#accuracy = accuracy_score(y_test, y_pred)\n",
    "#print(f\"Accuracy: {accuracy}\")\n",
    "\n",
    "print(\"accuarcy score is : \", accuracy_score(y_test, y_pred))\n"
   ]
  },
  {
   "cell_type": "code",
   "execution_count": 64,
   "id": "d96e183f-6429-4173-aa49-15a9b723a4c8",
   "metadata": {},
   "outputs": [
    {
     "name": "stdout",
     "output_type": "stream",
     "text": [
      "                 Generalized Linear Model Regression Results                  \n",
      "==============================================================================\n",
      "Dep. Variable:          aquifer_depth   No. Observations:                 3968\n",
      "Model:                            GLM   Df Residuals:                     3963\n",
      "Model Family:                Binomial   Df Model:                            4\n",
      "Link Function:                  Logit   Scale:                          1.0000\n",
      "Method:                          IRLS   Log-Likelihood:                   -inf\n",
      "Date:                Thu, 28 Dec 2023   Deviance:                   2.7862e+05\n",
      "Time:                        00:34:39   Pearson chi2:                 2.31e+19\n",
      "No. Iterations:                     5   Pseudo R-squ. (CS):                nan\n",
      "Covariance Type:            nonrobust                                         \n",
      "==============================================================================\n",
      "                 coef    std err          z      P>|z|      [0.025      0.975]\n",
      "------------------------------------------------------------------------------\n",
      "Intercept  -3.012e+16   4.17e+07  -7.22e+08      0.000   -3.01e+16   -3.01e+16\n",
      "alt         3.129e+12   9978.118   3.14e+08      0.000    3.13e+12    3.13e+12\n",
      "dsea        1.937e+13   8446.155   2.29e+09      0.000    1.94e+13    1.94e+13\n",
      "at          1.198e+15   1.46e+06   8.19e+08      0.000     1.2e+15     1.2e+15\n",
      "pr          4.568e+13    3.1e+04   1.47e+09      0.000    4.57e+13    4.57e+13\n",
      "==============================================================================\n"
     ]
    },
    {
     "name": "stderr",
     "output_type": "stream",
     "text": [
      "C:\\Users\\vishe\\AppData\\Local\\Programs\\Python\\Python39\\lib\\site-packages\\statsmodels\\genmod\\families\\links.py:198: RuntimeWarning: overflow encountered in exp\n",
      "  t = np.exp(-z)\n",
      "C:\\Users\\vishe\\AppData\\Local\\Programs\\Python\\Python39\\lib\\site-packages\\statsmodels\\genmod\\families\\family.py:1056: RuntimeWarning: invalid value encountered in log\n",
      "  special.gammaln(n - y + 1) + y * np.log(mu / (1 - mu + 1e-20)) +\n",
      "C:\\Users\\vishe\\AppData\\Local\\Programs\\Python\\Python39\\lib\\site-packages\\statsmodels\\genmod\\families\\family.py:1057: RuntimeWarning: invalid value encountered in log\n",
      "  n * np.log(1 - mu + 1e-20)) * var_weights\n"
     ]
    }
   ],
   "source": [
    "#Method 1: Generalised Linear Model\n",
    "\n",
    "model = smf.glm(formula = \"aquifer_depth ~ alt + dsea + at + pr\", \n",
    "                data = iac, \n",
    "                family = sm.families.Binomial())\n",
    "\n",
    "# Fit the model\n",
    "result = model.fit()\n",
    "# Display and interpret results\n",
    "print(result.summary())\n",
    "\n",
    "#Check error\n"
   ]
  },
  {
   "cell_type": "code",
   "execution_count": null,
   "id": "94c7e28c-ad3b-4e58-bca8-d1905844e3a4",
   "metadata": {},
   "outputs": [],
   "source": []
  }
 ],
 "metadata": {
  "kernelspec": {
   "display_name": "Python 3 (ipykernel)",
   "language": "python",
   "name": "python3"
  },
  "language_info": {
   "codemirror_mode": {
    "name": "ipython",
    "version": 3
   },
   "file_extension": ".py",
   "mimetype": "text/x-python",
   "name": "python",
   "nbconvert_exporter": "python",
   "pygments_lexer": "ipython3",
   "version": "3.9.9"
  }
 },
 "nbformat": 4,
 "nbformat_minor": 5
}
